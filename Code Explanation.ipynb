{
 "cells": [
  {
   "cell_type": "markdown",
   "metadata": {},
   "source": [
    "# Seating Plan Management"
   ]
  },
  {
   "cell_type": "markdown",
   "metadata": {},
   "source": [
    "## Library Used"
   ]
  },
  {
   "cell_type": "markdown",
   "metadata": {},
   "source": [
    "#### Pandas\n",
    "- Pandas is an open-source Python Library providing high-performance data manipulation and analysis tool using its powerful data structures.\n",
    "- Using Pandas, we can accomplish five typical steps in the processing and analysis of data, regardless of the origin of data — load, prepare, manipulate, model, and analyze.\n",
    "\n",
    "#### Numpy\n",
    "NumPy, which stands for Numerical Python, is a library consisting of multidimensional array objects and a collection of routines for processing those arrays. Using NumPy, mathematical and logical operations on arrays can be performed.\n",
    "\n",
    "#### Jinja2\n",
    "\n",
    "Jinja2 is a modern and designer-friendly templating language for Python. It is fast, widely used and secure with the optional sandboxed template execution environment.\n",
    "\n",
    "#### WeasyPrint\n",
    "WeasyPrint is a visual rendering engine for HTML and CSS that can export to PDF. It aims to support web standards for printing."
   ]
  },
  {
   "cell_type": "code",
   "execution_count": 2,
   "metadata": {
    "collapsed": false
   },
   "outputs": [],
   "source": [
    "#### Importing Libraries\n",
    "\n",
    "import pandas as pd\n",
    "import numpy as np\n",
    "from jinja2 import Environment, FileSystemLoader\n",
    "from weasyprint import HTML"
   ]
  },
  {
   "cell_type": "markdown",
   "metadata": {},
   "source": [
    "<br>\n",
    "### Creating List Of Available Branches "
   ]
  },
  {
   "cell_type": "code",
   "execution_count": 3,
   "metadata": {
    "collapsed": true
   },
   "outputs": [],
   "source": [
    "#name of branch is same as name of file containing data of that branch \n",
    "third_branch = ['CSE3','CSE32','IT3','ME3','ME32','CE3','EEE3','ECE3','ECE32']s\n",
    "second_branch = ['ECE22','ECE2','EEE2','ME22','ME2','CE2','IT2','CSE22','CSE2']"
   ]
  },
  {
   "cell_type": "markdown",
   "metadata": {
    "collapsed": true
   },
   "source": [
    "</br>\n",
    "### Creating"
   ]
  },
  {
   "cell_type": "code",
   "execution_count": 72,
   "metadata": {
    "collapsed": false
   },
   "outputs": [],
   "source": [
    "\n",
    "\n",
    "\n",
    "for i in range(0,len(third_branch)):\n",
    "    second = pd.read_excel(\"./data/\"+ second_branch[i] + \".xls\")\n",
    "    third = pd.read_excel(\"./data/\"+ third_branch[i] + \".xls\")\n",
    "    if (i == 0):\n",
    "        roll2 = np.array(second['username'])\n",
    "        roll3 = np.array(third['username'])\n",
    "    else:\n",
    "        roll2 = np.concatenate((roll2,np.array(second['username'])),axis=0)\n",
    "        roll3 = np.concatenate((roll3,np.array(third['username'])),axis=0)\n",
    "\n",
    "\n",
    "\n",
    "\n",
    "final = []\n",
    "j = 0\n",
    "rno = 1\n",
    "for i in range(0,(roll3.size - 3),3):\n",
    "    dictionary = []\n",
    "    dictionary.append(roll2[i])\n",
    "    dictionary.append(roll3[i])\n",
    "    dictionary.append(roll2[i+1])\n",
    "    dictionary.append(roll3[i+1])\n",
    "    dictionary.append(roll2[i+2])\n",
    "    dictionary.append(roll3[i+2])\n",
    "    final.append(dictionary)\n",
    "    j += 1\n",
    "    \n",
    "\n",
    "    if (j%10 == 0):\n",
    "        \n",
    "\n",
    "        newframe = pd.DataFrame(final ,columns=['Column 1','Column 2', 'Column 3','Column 4','Column 5','Column 6'])\n",
    "    \n",
    "\n",
    "        from jinja2 import Environment, FileSystemLoader\n",
    "        env = Environment(loader=FileSystemLoader('.'))\n",
    "        template = env.get_template(\"report.html\")\n",
    "\n",
    "    \n",
    "        template_vars = {\"title\" : \"Sitting Arrangement\",\"rno\":rno ,\"newframe\": newframe.to_html()}\n",
    "        html_out = template.render(template_vars)\n",
    "        from weasyprint import HTML\n",
    "        HTML(string=html_out).write_pdf(\"./report/room\"+ str(rno) +\".pdf\")\n",
    "        rno += 1\n",
    "        j = 0\n",
    "        final = []"
   ]
  },
  {
   "cell_type": "code",
   "execution_count": null,
   "metadata": {
    "collapsed": true
   },
   "outputs": [],
   "source": []
  }
 ],
 "metadata": {
  "anaconda-cloud": {},
  "kernelspec": {
   "display_name": "Python [default]",
   "language": "python",
   "name": "python3"
  },
  "language_info": {
   "codemirror_mode": {
    "name": "ipython",
    "version": 3
   },
   "file_extension": ".py",
   "mimetype": "text/x-python",
   "name": "python",
   "nbconvert_exporter": "python",
   "pygments_lexer": "ipython3",
   "version": "3.5.2"
  }
 },
 "nbformat": 4,
 "nbformat_minor": 1
}
